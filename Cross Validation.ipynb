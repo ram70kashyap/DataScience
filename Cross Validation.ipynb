{
 "cells": [
  {
   "cell_type": "code",
   "execution_count": 4,
   "metadata": {},
   "outputs": [],
   "source": [
    "import pandas as pd\n",
    "import numpy as np\n",
    "df = pd.read_csv('https://raw.githubusercontent.com/dsrscientist/dataset1/master/winequality-red.csv')\n",
    "X = df.drop([\"quality\"], axis=1)\n",
    "y = df['quality']"
   ]
  },
  {
   "cell_type": "code",
   "execution_count": 161,
   "metadata": {},
   "outputs": [],
   "source": [
    "class CrossValidation:\n",
    "    def __init__ (self, model, X, y, scoring, cv = 5, seed = 42):\n",
    "        import numpy as np\n",
    "        import pandas as pd\n",
    "        \"\"\"Initializing the variables\"\"\"\n",
    "        self.model = model\n",
    "        self.X = X\n",
    "        self.y = y\n",
    "        self.scoring = scoring\n",
    "        self.cv = cv\n",
    "        np.random.seed = seed\n",
    "        \n",
    "    def pairwise(self,iterable):\n",
    "        import itertools\n",
    "        \"[s0,s1,s2,s3...] -> (s0,s1), (s1,s2), (s2, s3), ...\"\n",
    "        a, b = itertools.tee(iterable)\n",
    "        next(b, None)\n",
    "        return zip(a, b)\n",
    "    \n",
    "    def SplitData(self):\n",
    "        \"\"\"This method will retrun the split of data based on values(target variable)\"\"\"\n",
    "        self.df = X.copy()\n",
    "        self.df[\"Y\"] = y\n",
    "        #print(self.df.dtypes)\n",
    "        splitDataDict = {}\n",
    "        y_values_index = y.value_counts().index\n",
    "        y_values = y.value_counts().values\n",
    "        for i,j in zip(y_values_index, y_values):\n",
    "            tempData = self.df[self.df[\"Y\"] == i]\n",
    "            splitDataDict[i] = tempData.sample(j).reset_index(drop=True)\n",
    "            \n",
    "        return splitDataDict\n",
    "    \n",
    "    def stratifySplit(self):\n",
    "        \"\"\"Stratigically split the data with respect to the cross validation\"\"\"\n",
    "        splitDataDict = self.SplitData() \n",
    "        StratifyDict = dict()\n",
    "        for splitNo in range(self.cv):\n",
    "            tempDataFrame = pd.DataFrame(columns=self.df.columns)\n",
    "            StratifyDict[splitNo] = tempDataFrame\n",
    "            # print(tempDataFrame)\n",
    "        for col,val in splitDataDict.items():\n",
    "            tempRange = range(0,val.shape[0], [1 if val.shape[0]//self.cv == 0 else val.shape[0]//self.cv][0])\n",
    "            #print(list(tempRange))\n",
    "            for split, key in zip(self.pairwise(tempRange),StratifyDict.keys()):\n",
    "                splitDataStratified = val.loc[range(split[0],split[1])]\n",
    "                # print(StratifyDict[key].shape, splitDataStratified.shape)\n",
    "                StratifyDict[key] = StratifyDict[key].append(splitDataStratified, ignore_index=True)\n",
    "\n",
    "        return StratifyDict\n",
    "    \n",
    "    def retrunPerformanceParams(self):\n",
    "        \"\"\"can add different parameters\"\"\"\n",
    "        from sklearn.metrics import accuracy_score, r2_score,f1_score\n",
    "        params = None\n",
    "        if self.scoring == \"accuracy\":\n",
    "            params = accuracy_score\n",
    "            return params\n",
    "        elif self.scoring == 'r2':\n",
    "            params = r2_score\n",
    "            return params\n",
    "        elif self.scoring == \"f1\":\n",
    "            params = f1_score\n",
    "            return params\n",
    "        \n",
    "    \n",
    "    \n",
    "    def Validate(self):\n",
    "        import copy\n",
    "        dataDict = self.stratifySplit()\n",
    "        PerformanceMetric = self.retrunPerformanceParams()\n",
    "        finalScore = []\n",
    "        finalScoreCount = []\n",
    "        CVList = list(dataDict.keys())\n",
    "        for en, testSet in enumerate(CVList):\n",
    "            tempList = copy.copy(CVList)\n",
    "            tempList.pop(testSet)\n",
    "            testData = dataDict[testSet].reset_index(drop = True)\n",
    "            trainData = dataDict[tempList[0]].reset_index(drop=True)\n",
    "            for tempTrain in range(1, len(tempList)+1):\n",
    "                trainData = trainData.append(dataDict[tempTrain], ignore_index=True)\n",
    "            X_train, y_train, X_test, y_test = trainData.drop(columns=[\"Y\"]),trainData[\"Y\"],testData.drop(columns=[\"Y\"]),testData[\"Y\"]\n",
    "            y_train, y_test = pd.to_numeric(y_train),pd.to_numeric(y_test)\n",
    "            self.model.fit(X_train, y_train)\n",
    "            pred = self.model.predict(X_test)\n",
    "            score = PerformanceMetric(y_test, pred)\n",
    "            finalScore.append(score)\n",
    "            finalScoreCount.append(f\"Iteration - {en+1}\")\n",
    "            # print(X_train.shape, y_train.shape, X_test.shape, y_test.shape, score, y_test.value_counts())\n",
    "        finalScore.append(sum(finalScore)/len(finalScore))\n",
    "        finalScoreCount.append(\"CV\")\n",
    "        return pd.DataFrame({\"Scores\":finalScore}, index = finalScoreCount)\n",
    "        \n",
    "        \n",
    "    def __str__(self):\n",
    "        return \"This is a test algorithm\""
   ]
  },
  {
   "cell_type": "code",
   "execution_count": null,
   "metadata": {},
   "outputs": [],
   "source": []
  },
  {
   "cell_type": "code",
   "execution_count": 162,
   "metadata": {
    "scrolled": true
   },
   "outputs": [
    {
     "data": {
      "text/html": [
       "<div>\n",
       "<style scoped>\n",
       "    .dataframe tbody tr th:only-of-type {\n",
       "        vertical-align: middle;\n",
       "    }\n",
       "\n",
       "    .dataframe tbody tr th {\n",
       "        vertical-align: top;\n",
       "    }\n",
       "\n",
       "    .dataframe thead th {\n",
       "        text-align: right;\n",
       "    }\n",
       "</style>\n",
       "<table border=\"1\" class=\"dataframe\">\n",
       "  <thead>\n",
       "    <tr style=\"text-align: right;\">\n",
       "      <th></th>\n",
       "      <th>Scores</th>\n",
       "    </tr>\n",
       "  </thead>\n",
       "  <tbody>\n",
       "    <tr>\n",
       "      <th>Iteration - 1</th>\n",
       "      <td>0.213075</td>\n",
       "    </tr>\n",
       "    <tr>\n",
       "      <th>Iteration - 2</th>\n",
       "      <td>1.000000</td>\n",
       "    </tr>\n",
       "    <tr>\n",
       "      <th>Iteration - 3</th>\n",
       "      <td>1.000000</td>\n",
       "    </tr>\n",
       "    <tr>\n",
       "      <th>Iteration - 4</th>\n",
       "      <td>1.000000</td>\n",
       "    </tr>\n",
       "    <tr>\n",
       "      <th>Iteration - 5</th>\n",
       "      <td>1.000000</td>\n",
       "    </tr>\n",
       "    <tr>\n",
       "      <th>CV</th>\n",
       "      <td>0.842615</td>\n",
       "    </tr>\n",
       "  </tbody>\n",
       "</table>\n",
       "</div>"
      ],
      "text/plain": [
       "                 Scores\n",
       "Iteration - 1  0.213075\n",
       "Iteration - 2  1.000000\n",
       "Iteration - 3  1.000000\n",
       "Iteration - 4  1.000000\n",
       "Iteration - 5  1.000000\n",
       "CV             0.842615"
      ]
     },
     "execution_count": 162,
     "metadata": {},
     "output_type": "execute_result"
    }
   ],
   "source": [
    "from sklearn.tree import DecisionTreeClassifier\n",
    "\n",
    "c = CrossValidation(DecisionTreeClassifier(), X,y, \"accuracy\")\n",
    "c.Validate()"
   ]
  },
  {
   "cell_type": "code",
   "execution_count": 163,
   "metadata": {},
   "outputs": [],
   "source": [
    "df_1 = pd.read_csv(\"https://raw.githubusercontent.com/dsrscientist/dataset1/master/abalone.csv\")\n",
    "df_1 = df_1.drop([\"Sex\"], axis=1)"
   ]
  },
  {
   "cell_type": "code",
   "execution_count": 164,
   "metadata": {},
   "outputs": [
    {
     "data": {
      "text/plain": [
       "Length            0\n",
       "Diameter          0\n",
       "Height            0\n",
       "Whole weight      0\n",
       "Shucked weight    0\n",
       "Viscera weight    0\n",
       "Shell weight      0\n",
       "Rings             0\n",
       "dtype: int64"
      ]
     },
     "execution_count": 164,
     "metadata": {},
     "output_type": "execute_result"
    }
   ],
   "source": [
    "df_1.isna().sum()"
   ]
  },
  {
   "cell_type": "code",
   "execution_count": 165,
   "metadata": {},
   "outputs": [
    {
     "data": {
      "text/plain": [
       "Length            float64\n",
       "Diameter          float64\n",
       "Height            float64\n",
       "Whole weight      float64\n",
       "Shucked weight    float64\n",
       "Viscera weight    float64\n",
       "Shell weight      float64\n",
       "Rings               int64\n",
       "dtype: object"
      ]
     },
     "execution_count": 165,
     "metadata": {},
     "output_type": "execute_result"
    }
   ],
   "source": [
    "df_1.dtypes"
   ]
  },
  {
   "cell_type": "code",
   "execution_count": 166,
   "metadata": {},
   "outputs": [],
   "source": [
    "X  = df_1.drop([\"Rings\"], axis=1)\n",
    "y = df_1[\"Rings\"]"
   ]
  },
  {
   "cell_type": "code",
   "execution_count": 167,
   "metadata": {},
   "outputs": [],
   "source": [
    "from sklearn.neighbors import KNeighborsClassifier"
   ]
  },
  {
   "cell_type": "code",
   "execution_count": 168,
   "metadata": {},
   "outputs": [
    {
     "data": {
      "text/html": [
       "<div>\n",
       "<style scoped>\n",
       "    .dataframe tbody tr th:only-of-type {\n",
       "        vertical-align: middle;\n",
       "    }\n",
       "\n",
       "    .dataframe tbody tr th {\n",
       "        vertical-align: top;\n",
       "    }\n",
       "\n",
       "    .dataframe thead th {\n",
       "        text-align: right;\n",
       "    }\n",
       "</style>\n",
       "<table border=\"1\" class=\"dataframe\">\n",
       "  <thead>\n",
       "    <tr style=\"text-align: right;\">\n",
       "      <th></th>\n",
       "      <th>Scores</th>\n",
       "    </tr>\n",
       "  </thead>\n",
       "  <tbody>\n",
       "    <tr>\n",
       "      <th>Iteration - 1</th>\n",
       "      <td>0.211864</td>\n",
       "    </tr>\n",
       "    <tr>\n",
       "      <th>Iteration - 2</th>\n",
       "      <td>0.444175</td>\n",
       "    </tr>\n",
       "    <tr>\n",
       "      <th>Iteration - 3</th>\n",
       "      <td>0.459951</td>\n",
       "    </tr>\n",
       "    <tr>\n",
       "      <th>Iteration - 4</th>\n",
       "      <td>0.458738</td>\n",
       "    </tr>\n",
       "    <tr>\n",
       "      <th>Iteration - 5</th>\n",
       "      <td>0.451128</td>\n",
       "    </tr>\n",
       "    <tr>\n",
       "      <th>CV</th>\n",
       "      <td>0.405171</td>\n",
       "    </tr>\n",
       "  </tbody>\n",
       "</table>\n",
       "</div>"
      ],
      "text/plain": [
       "                 Scores\n",
       "Iteration - 1  0.211864\n",
       "Iteration - 2  0.444175\n",
       "Iteration - 3  0.459951\n",
       "Iteration - 4  0.458738\n",
       "Iteration - 5  0.451128\n",
       "CV             0.405171"
      ]
     },
     "execution_count": 168,
     "metadata": {},
     "output_type": "execute_result"
    }
   ],
   "source": [
    "newClass = CrossValidation(KNeighborsClassifier(),X,y,\"accuracy\")\n",
    "newClass.Validate()"
   ]
  },
  {
   "cell_type": "code",
   "execution_count": 170,
   "metadata": {},
   "outputs": [
    {
     "data": {
      "text/plain": [
       "1"
      ]
     },
     "execution_count": 170,
     "metadata": {},
     "output_type": "execute_result"
    }
   ],
   "source": [
    "1 if 1 ==1 else 0 # got an error in final testing so used this logic in line 43"
   ]
  },
  {
   "cell_type": "code",
   "execution_count": null,
   "metadata": {},
   "outputs": [],
   "source": []
  }
 ],
 "metadata": {
  "kernelspec": {
   "display_name": "Python 3",
   "language": "python",
   "name": "python3"
  },
  "language_info": {
   "codemirror_mode": {
    "name": "ipython",
    "version": 3
   },
   "file_extension": ".py",
   "mimetype": "text/x-python",
   "name": "python",
   "nbconvert_exporter": "python",
   "pygments_lexer": "ipython3",
   "version": "3.8.5"
  }
 },
 "nbformat": 4,
 "nbformat_minor": 4
}
