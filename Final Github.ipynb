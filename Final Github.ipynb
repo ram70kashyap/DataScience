{
 "cells": [
  {
   "cell_type": "code",
   "execution_count": 1,
   "metadata": {},
   "outputs": [
    {
     "name": "stdout",
     "output_type": "stream",
     "text": [
      " Volume in drive C has no label.\n",
      " Volume Serial Number is 26EE-3E1E\n",
      "\n",
      " Directory of C:\\Users\\kashyap\\Desktop\\data\\arab\n",
      "\n",
      "09/19/2020  04:08 AM    <DIR>          .\n",
      "09/19/2020  04:08 AM    <DIR>          ..\n",
      "09/19/2020  03:49 AM    <DIR>          .ipynb_checkpoints\n",
      "09/18/2020  12:34 PM        11,941,568 Apr.xlsx\n",
      "09/18/2020  12:06 AM         6,411,168 Apr_Working.xlsb\n",
      "09/18/2020  08:49 PM            43,548 data.ipynb\n",
      "09/19/2020  12:42 AM           118,253 data-Copy1.ipynb\n",
      "09/19/2020  04:07 AM            10,771 Final.ipynb\n",
      "09/18/2020  12:35 PM         9,851,777 jun.xlsx\n",
      "09/17/2020  11:54 PM         5,742,576 Jun_Working.xlsb\n",
      "09/18/2020  12:36 PM        12,244,503 mar.xlsx\n",
      "09/17/2020  11:53 PM         6,457,142 Mar_Working.xlsb\n",
      "09/18/2020  12:37 PM        10,629,783 may.xlsx\n",
      "09/17/2020  11:54 PM         5,982,398 May_Working.xlsb\n",
      "09/19/2020  04:08 AM        43,887,117 model with data.zip\n",
      "09/19/2020  03:43 AM             1,164 model.pkl\n",
      "              13 File(s)    113,321,768 bytes\n",
      "               3 Dir(s)  120,376,877,056 bytes free\n"
     ]
    }
   ],
   "source": [
    "ls"
   ]
  },
  {
   "cell_type": "code",
   "execution_count": 2,
   "metadata": {},
   "outputs": [
    {
     "data": {
      "text/html": [
       "        <script type=\"text/javascript\">\n",
       "        window.PlotlyConfig = {MathJaxConfig: 'local'};\n",
       "        if (window.MathJax) {MathJax.Hub.Config({SVG: {font: \"STIX-Web\"}});}\n",
       "        if (typeof require !== 'undefined') {\n",
       "        require.undef(\"plotly\");\n",
       "        requirejs.config({\n",
       "            paths: {\n",
       "                'plotly': ['https://cdn.plot.ly/plotly-latest.min']\n",
       "            }\n",
       "        });\n",
       "        require(['plotly'], function(Plotly) {\n",
       "            window._Plotly = Plotly;\n",
       "        });\n",
       "        }\n",
       "        </script>\n",
       "        "
      ]
     },
     "metadata": {},
     "output_type": "display_data"
    }
   ],
   "source": [
    "import warnings\n",
    "warnings.filterwarnings(\"ignore\")\n",
    "\n",
    "import pandas as pd\n",
    "import numpy as np\n",
    "import seaborn as sns\n",
    "import matplotlib.pyplot as plt\n",
    "from sklearn.preprocessing import LabelEncoder\n",
    "import datetime\n",
    "from scipy.stats import zscore\n",
    "from sklearn.preprocessing import PowerTransformer\n",
    "from sklearn.metrics import accuracy_score\n",
    "from sklearn.model_selection import train_test_split\n",
    "from sklearn.tree import DecisionTreeClassifier\n",
    "from sklearn.neighbors.classification import KNeighborsClassifier\n",
    "from sklearn.ensemble.weight_boosting import AdaBoostClassifier\n",
    "from sklearn.ensemble.gradient_boosting import GradientBoostingClassifier\n",
    "from sklearn.svm import SVC\n",
    "from sklearn.linear_model import LogisticRegression\n",
    "from sklearn.metrics import f1_score\n",
    "from sklearn.metrics import log_loss\n",
    "from sklearn.model_selection import cross_val_score\n",
    "import joblib\n",
    "import plotly.plotly as po\n",
    "import plotly.figure_factory as ff\n",
    "from plotly.offline import init_notebook_mode, iplot\n",
    "init_notebook_mode(connected=True)\n",
    "import plotly.graph_objs as go\n",
    "\n",
    "\n",
    "pd.options.display.max_rows = 100\n",
    "pd.options.display.max_columns = 999\n",
    "plt.style.use('ggplot')"
   ]
  },
  {
   "cell_type": "code",
   "execution_count": 3,
   "metadata": {},
   "outputs": [
    {
     "name": "stdout",
     "output_type": "stream",
     "text": [
      " Volume in drive C has no label.\n",
      " Volume Serial Number is 26EE-3E1E\n",
      "\n",
      " Directory of C:\\Users\\kashyap\\Desktop\\data\\arab\n",
      "\n",
      "09/19/2020  04:08 AM    <DIR>          .\n",
      "09/19/2020  04:08 AM    <DIR>          ..\n",
      "09/19/2020  03:49 AM    <DIR>          .ipynb_checkpoints\n",
      "09/18/2020  12:34 PM        11,941,568 Apr.xlsx\n",
      "09/18/2020  12:06 AM         6,411,168 Apr_Working.xlsb\n",
      "09/18/2020  08:49 PM            43,548 data.ipynb\n",
      "09/19/2020  12:42 AM           118,253 data-Copy1.ipynb\n",
      "09/19/2020  04:07 AM            10,771 Final.ipynb\n",
      "09/18/2020  12:35 PM         9,851,777 jun.xlsx\n",
      "09/17/2020  11:54 PM         5,742,576 Jun_Working.xlsb\n",
      "09/18/2020  12:36 PM        12,244,503 mar.xlsx\n",
      "09/17/2020  11:53 PM         6,457,142 Mar_Working.xlsb\n",
      "09/18/2020  12:37 PM        10,629,783 may.xlsx\n",
      "09/17/2020  11:54 PM         5,982,398 May_Working.xlsb\n",
      "09/19/2020  04:08 AM        43,887,117 model with data.zip\n",
      "09/19/2020  03:43 AM             1,164 model.pkl\n",
      "              13 File(s)    113,321,768 bytes\n",
      "               3 Dir(s)  120,376,532,992 bytes free\n"
     ]
    }
   ],
   "source": [
    "ls"
   ]
  },
  {
   "cell_type": "code",
   "execution_count": 4,
   "metadata": {},
   "outputs": [],
   "source": [
    "# Reading the files\n",
    "df1 = pd.read_excel(\"mar.xlsx\")\n",
    "df2 = pd.read_excel(\"apr.xlsx\")\n",
    "df3 = pd.read_excel(\"may.xlsx\")\n",
    "df4 = pd.read_excel(\"may.xlsx\")"
   ]
  },
  {
   "cell_type": "code",
   "execution_count": 5,
   "metadata": {},
   "outputs": [],
   "source": [
    "# concatinating different files to create one\n",
    "df = pd.concat([df1,df2,df3, df4], axis = 0)"
   ]
  },
  {
   "cell_type": "code",
   "execution_count": 6,
   "metadata": {},
   "outputs": [
    {
     "data": {
      "text/html": [
       "<div>\n",
       "<style scoped>\n",
       "    .dataframe tbody tr th:only-of-type {\n",
       "        vertical-align: middle;\n",
       "    }\n",
       "\n",
       "    .dataframe tbody tr th {\n",
       "        vertical-align: top;\n",
       "    }\n",
       "\n",
       "    .dataframe thead th {\n",
       "        text-align: right;\n",
       "    }\n",
       "</style>\n",
       "<table border=\"1\" class=\"dataframe\">\n",
       "  <thead>\n",
       "    <tr style=\"text-align: right;\">\n",
       "      <th></th>\n",
       "      <th>FACILITY</th>\n",
       "      <th>LOCATION_NAME</th>\n",
       "      <th>MRN</th>\n",
       "      <th>FIN</th>\n",
       "      <th>GENDER</th>\n",
       "      <th>AGE</th>\n",
       "      <th>NATIONALITY_IDENTIFIER</th>\n",
       "      <th>FIN_CLASS</th>\n",
       "      <th>APPT_TYPE</th>\n",
       "      <th>ENCT_TYPE</th>\n",
       "      <th>TYPE_NAME</th>\n",
       "      <th>APPT_CLASS</th>\n",
       "      <th>BOOKING_DT_TM</th>\n",
       "      <th>APPT_DATE_TIME</th>\n",
       "      <th>REG_DT_TM</th>\n",
       "      <th>APPT_STATUS</th>\n",
       "      <th>BOOKING_PRSNL</th>\n",
       "      <th>RESOURCE_NAME</th>\n",
       "      <th>SEEN_BY_PHYSICIAN</th>\n",
       "      <th>SEEN_BY_GD</th>\n",
       "      <th>SEEN_BY_PHYSICIAN_ID</th>\n",
       "      <th>SPECIALTY</th>\n",
       "      <th>SUB_SPECIALTY</th>\n",
       "      <th>Gender Group</th>\n",
       "      <th>Age Group</th>\n",
       "      <th>Nat Group</th>\n",
       "      <th>Fin Group</th>\n",
       "      <th>Appt Class Group</th>\n",
       "      <th>Appt Hour</th>\n",
       "      <th>Appt Day</th>\n",
       "      <th>Appt Month</th>\n",
       "      <th>Appt Wait (Days)</th>\n",
       "      <th>Appt Wait (Range)</th>\n",
       "      <th>User Group</th>\n",
       "      <th>No Show</th>\n",
       "      <th>Category</th>\n",
       "    </tr>\n",
       "  </thead>\n",
       "  <tbody>\n",
       "    <tr>\n",
       "      <th>0</th>\n",
       "      <td>TW Fertility</td>\n",
       "      <td>TW Fertility Clinic-Ambulatory(s)</td>\n",
       "      <td>TW00-021-760</td>\n",
       "      <td>007-729-629</td>\n",
       "      <td>Female</td>\n",
       "      <td>37</td>\n",
       "      <td>NATIONAL</td>\n",
       "      <td>Daman Thiqa</td>\n",
       "      <td>TW US Follicular Monitoring</td>\n",
       "      <td>Radiology Exam</td>\n",
       "      <td>APPOINTMENT</td>\n",
       "      <td>-</td>\n",
       "      <td>2019-03-10 10:09:00</td>\n",
       "      <td>2019-03-14 08:45:00</td>\n",
       "      <td>2019-03-14 09:28:00</td>\n",
       "      <td>CHECKED IN</td>\n",
       "      <td>Alameri , Huda Slayem</td>\n",
       "      <td>TW IVF US ROOM 1</td>\n",
       "      <td>-</td>\n",
       "      <td>-</td>\n",
       "      <td>-</td>\n",
       "      <td>RADIOLOGY</td>\n",
       "      <td>ULTRASOUND</td>\n",
       "      <td>Female</td>\n",
       "      <td>Adult</td>\n",
       "      <td>National</td>\n",
       "      <td>Thiqa</td>\n",
       "      <td>Unknown</td>\n",
       "      <td>8</td>\n",
       "      <td>Thursday</td>\n",
       "      <td>March</td>\n",
       "      <td>3.941667</td>\n",
       "      <td>In 2 Weeks</td>\n",
       "      <td>BE User</td>\n",
       "      <td>Seen</td>\n",
       "      <td>No Show History</td>\n",
       "    </tr>\n",
       "    <tr>\n",
       "      <th>1</th>\n",
       "      <td>TW Fertility</td>\n",
       "      <td>TW Fertility Clinic-Ambulatory(s)</td>\n",
       "      <td>TW00-021-760</td>\n",
       "      <td>007-733-591</td>\n",
       "      <td>Female</td>\n",
       "      <td>37</td>\n",
       "      <td>NATIONAL</td>\n",
       "      <td>Daman Thiqa</td>\n",
       "      <td>TW US Follicular Monitoring</td>\n",
       "      <td>Radiology Exam</td>\n",
       "      <td>APPOINTMENT</td>\n",
       "      <td>-</td>\n",
       "      <td>2019-03-14 10:51:00</td>\n",
       "      <td>2019-03-17 08:45:00</td>\n",
       "      <td>2019-03-17 09:28:00</td>\n",
       "      <td>CHECKED IN</td>\n",
       "      <td>Alameri , Huda Slayem</td>\n",
       "      <td>TW IVF US ROOM 1</td>\n",
       "      <td>-</td>\n",
       "      <td>-</td>\n",
       "      <td>-</td>\n",
       "      <td>RADIOLOGY</td>\n",
       "      <td>ULTRASOUND</td>\n",
       "      <td>Female</td>\n",
       "      <td>Adult</td>\n",
       "      <td>National</td>\n",
       "      <td>Thiqa</td>\n",
       "      <td>Unknown</td>\n",
       "      <td>8</td>\n",
       "      <td>Sunday</td>\n",
       "      <td>March</td>\n",
       "      <td>2.912500</td>\n",
       "      <td>In 2 Weeks</td>\n",
       "      <td>BE User</td>\n",
       "      <td>Seen</td>\n",
       "      <td>No Show History</td>\n",
       "    </tr>\n",
       "    <tr>\n",
       "      <th>2</th>\n",
       "      <td>TW Fertility</td>\n",
       "      <td>TW Fertility Clinic-Ambulatory(s)</td>\n",
       "      <td>TW00-021-760</td>\n",
       "      <td>007-739-927</td>\n",
       "      <td>Female</td>\n",
       "      <td>37</td>\n",
       "      <td>NATIONAL</td>\n",
       "      <td>Daman Thiqa</td>\n",
       "      <td>TW US Follicular Monitoring</td>\n",
       "      <td>Radiology Exam</td>\n",
       "      <td>APPOINTMENT</td>\n",
       "      <td>-</td>\n",
       "      <td>2019-03-17 11:42:00</td>\n",
       "      <td>2019-03-19 08:45:00</td>\n",
       "      <td>2019-03-19 10:21:00</td>\n",
       "      <td>CHECKED IN</td>\n",
       "      <td>Al Saadi , Naima</td>\n",
       "      <td>TW IVF US ROOM 1</td>\n",
       "      <td>-</td>\n",
       "      <td>-</td>\n",
       "      <td>-</td>\n",
       "      <td>RADIOLOGY</td>\n",
       "      <td>ULTRASOUND</td>\n",
       "      <td>Female</td>\n",
       "      <td>Adult</td>\n",
       "      <td>National</td>\n",
       "      <td>Thiqa</td>\n",
       "      <td>Unknown</td>\n",
       "      <td>8</td>\n",
       "      <td>Tuesday</td>\n",
       "      <td>March</td>\n",
       "      <td>1.877083</td>\n",
       "      <td>In 2 Weeks</td>\n",
       "      <td>BE User</td>\n",
       "      <td>Seen</td>\n",
       "      <td>No Show History</td>\n",
       "    </tr>\n",
       "    <tr>\n",
       "      <th>3</th>\n",
       "      <td>TW Fertility</td>\n",
       "      <td>TW Fertility Clinic-Ambulatory(s)</td>\n",
       "      <td>TW00-021-760</td>\n",
       "      <td>007-745-890</td>\n",
       "      <td>Female</td>\n",
       "      <td>37</td>\n",
       "      <td>NATIONAL</td>\n",
       "      <td>Daman Thiqa</td>\n",
       "      <td>TW US Follicular Monitoring</td>\n",
       "      <td>Radiology Exam</td>\n",
       "      <td>APPOINTMENT</td>\n",
       "      <td>-</td>\n",
       "      <td>2019-03-19 11:46:00</td>\n",
       "      <td>2019-03-21 11:30:00</td>\n",
       "      <td>2019-03-21 11:19:00</td>\n",
       "      <td>CHECKED IN</td>\n",
       "      <td>Al Saadi , Naima</td>\n",
       "      <td>TW IVF US ROOM 1</td>\n",
       "      <td>-</td>\n",
       "      <td>-</td>\n",
       "      <td>-</td>\n",
       "      <td>RADIOLOGY</td>\n",
       "      <td>ULTRASOUND</td>\n",
       "      <td>Female</td>\n",
       "      <td>Adult</td>\n",
       "      <td>National</td>\n",
       "      <td>Thiqa</td>\n",
       "      <td>Unknown</td>\n",
       "      <td>11</td>\n",
       "      <td>Thursday</td>\n",
       "      <td>March</td>\n",
       "      <td>1.988889</td>\n",
       "      <td>In 2 Weeks</td>\n",
       "      <td>BE User</td>\n",
       "      <td>Seen</td>\n",
       "      <td>No Show History</td>\n",
       "    </tr>\n",
       "    <tr>\n",
       "      <th>4</th>\n",
       "      <td>TW Fertility</td>\n",
       "      <td>TW Fertility Clinic-Ambulatory(s)</td>\n",
       "      <td>TW00-021-760</td>\n",
       "      <td>-</td>\n",
       "      <td>Female</td>\n",
       "      <td>37</td>\n",
       "      <td>NATIONAL</td>\n",
       "      <td>-</td>\n",
       "      <td>TW US Follicular Monitoring</td>\n",
       "      <td>-</td>\n",
       "      <td>APPOINTMENT</td>\n",
       "      <td>-</td>\n",
       "      <td>2019-03-03 11:39:00</td>\n",
       "      <td>2019-03-05 10:30:00</td>\n",
       "      <td>-</td>\n",
       "      <td>CONFIRMED</td>\n",
       "      <td>Alameri , Huda Slayem</td>\n",
       "      <td>TW IVF US ROOM 1</td>\n",
       "      <td>-</td>\n",
       "      <td>-</td>\n",
       "      <td>-</td>\n",
       "      <td>RADIOLOGY</td>\n",
       "      <td>ULTRASOUND</td>\n",
       "      <td>Female</td>\n",
       "      <td>Adult</td>\n",
       "      <td>National</td>\n",
       "      <td>Unknown</td>\n",
       "      <td>Unknown</td>\n",
       "      <td>10</td>\n",
       "      <td>Tuesday</td>\n",
       "      <td>March</td>\n",
       "      <td>1.952083</td>\n",
       "      <td>In 2 Weeks</td>\n",
       "      <td>BE User</td>\n",
       "      <td>No Show</td>\n",
       "      <td>No Show History</td>\n",
       "    </tr>\n",
       "  </tbody>\n",
       "</table>\n",
       "</div>"
      ],
      "text/plain": [
       "       FACILITY                      LOCATION_NAME           MRN          FIN  \\\n",
       "0  TW Fertility  TW Fertility Clinic-Ambulatory(s)  TW00-021-760  007-729-629   \n",
       "1  TW Fertility  TW Fertility Clinic-Ambulatory(s)  TW00-021-760  007-733-591   \n",
       "2  TW Fertility  TW Fertility Clinic-Ambulatory(s)  TW00-021-760  007-739-927   \n",
       "3  TW Fertility  TW Fertility Clinic-Ambulatory(s)  TW00-021-760  007-745-890   \n",
       "4  TW Fertility  TW Fertility Clinic-Ambulatory(s)  TW00-021-760            -   \n",
       "\n",
       "   GENDER  AGE NATIONALITY_IDENTIFIER    FIN_CLASS  \\\n",
       "0  Female   37               NATIONAL  Daman Thiqa   \n",
       "1  Female   37               NATIONAL  Daman Thiqa   \n",
       "2  Female   37               NATIONAL  Daman Thiqa   \n",
       "3  Female   37               NATIONAL  Daman Thiqa   \n",
       "4  Female   37               NATIONAL            -   \n",
       "\n",
       "                     APPT_TYPE       ENCT_TYPE    TYPE_NAME APPT_CLASS  \\\n",
       "0  TW US Follicular Monitoring  Radiology Exam  APPOINTMENT          -   \n",
       "1  TW US Follicular Monitoring  Radiology Exam  APPOINTMENT          -   \n",
       "2  TW US Follicular Monitoring  Radiology Exam  APPOINTMENT          -   \n",
       "3  TW US Follicular Monitoring  Radiology Exam  APPOINTMENT          -   \n",
       "4  TW US Follicular Monitoring               -  APPOINTMENT          -   \n",
       "\n",
       "        BOOKING_DT_TM      APPT_DATE_TIME            REG_DT_TM APPT_STATUS  \\\n",
       "0 2019-03-10 10:09:00 2019-03-14 08:45:00  2019-03-14 09:28:00  CHECKED IN   \n",
       "1 2019-03-14 10:51:00 2019-03-17 08:45:00  2019-03-17 09:28:00  CHECKED IN   \n",
       "2 2019-03-17 11:42:00 2019-03-19 08:45:00  2019-03-19 10:21:00  CHECKED IN   \n",
       "3 2019-03-19 11:46:00 2019-03-21 11:30:00  2019-03-21 11:19:00  CHECKED IN   \n",
       "4 2019-03-03 11:39:00 2019-03-05 10:30:00                    -   CONFIRMED   \n",
       "\n",
       "           BOOKING_PRSNL     RESOURCE_NAME SEEN_BY_PHYSICIAN SEEN_BY_GD  \\\n",
       "0  Alameri , Huda Slayem  TW IVF US ROOM 1                 -          -   \n",
       "1  Alameri , Huda Slayem  TW IVF US ROOM 1                 -          -   \n",
       "2       Al Saadi , Naima  TW IVF US ROOM 1                 -          -   \n",
       "3       Al Saadi , Naima  TW IVF US ROOM 1                 -          -   \n",
       "4  Alameri , Huda Slayem  TW IVF US ROOM 1                 -          -   \n",
       "\n",
       "  SEEN_BY_PHYSICIAN_ID  SPECIALTY SUB_SPECIALTY Gender Group Age Group  \\\n",
       "0                    -  RADIOLOGY    ULTRASOUND       Female     Adult   \n",
       "1                    -  RADIOLOGY    ULTRASOUND       Female     Adult   \n",
       "2                    -  RADIOLOGY    ULTRASOUND       Female     Adult   \n",
       "3                    -  RADIOLOGY    ULTRASOUND       Female     Adult   \n",
       "4                    -  RADIOLOGY    ULTRASOUND       Female     Adult   \n",
       "\n",
       "  Nat Group Fin Group Appt Class Group  Appt Hour  Appt Day Appt Month  \\\n",
       "0  National     Thiqa          Unknown          8  Thursday      March   \n",
       "1  National     Thiqa          Unknown          8    Sunday      March   \n",
       "2  National     Thiqa          Unknown          8   Tuesday      March   \n",
       "3  National     Thiqa          Unknown         11  Thursday      March   \n",
       "4  National   Unknown          Unknown         10   Tuesday      March   \n",
       "\n",
       "   Appt Wait (Days) Appt Wait (Range) User Group  No Show         Category  \n",
       "0          3.941667        In 2 Weeks    BE User     Seen  No Show History  \n",
       "1          2.912500        In 2 Weeks    BE User     Seen  No Show History  \n",
       "2          1.877083        In 2 Weeks    BE User     Seen  No Show History  \n",
       "3          1.988889        In 2 Weeks    BE User     Seen  No Show History  \n",
       "4          1.952083        In 2 Weeks    BE User  No Show  No Show History  "
      ]
     },
     "execution_count": 6,
     "metadata": {},
     "output_type": "execute_result"
    }
   ],
   "source": [
    "df.head()"
   ]
  },
  {
   "cell_type": "code",
   "execution_count": 7,
   "metadata": {},
   "outputs": [
    {
     "data": {
      "text/plain": [
       "(222101, 36)"
      ]
     },
     "execution_count": 7,
     "metadata": {},
     "output_type": "execute_result"
    }
   ],
   "source": [
    "df.shape"
   ]
  },
  {
   "cell_type": "code",
   "execution_count": 8,
   "metadata": {},
   "outputs": [
    {
     "data": {
      "text/plain": [
       "Index(['FACILITY', 'LOCATION_NAME', 'MRN', 'FIN', 'GENDER', 'AGE',\n",
       "       'NATIONALITY_IDENTIFIER', 'FIN_CLASS', 'APPT_TYPE', 'ENCT_TYPE',\n",
       "       'TYPE_NAME', 'APPT_CLASS', 'BOOKING_DT_TM', 'APPT_DATE_TIME',\n",
       "       'REG_DT_TM', 'APPT_STATUS', 'BOOKING_PRSNL', 'RESOURCE_NAME',\n",
       "       'SEEN_BY_PHYSICIAN', 'SEEN_BY_GD', 'SEEN_BY_PHYSICIAN_ID', 'SPECIALTY',\n",
       "       'SUB_SPECIALTY', 'Gender Group', 'Age Group', 'Nat Group', 'Fin Group',\n",
       "       'Appt Class Group', 'Appt Hour', 'Appt Day', 'Appt Month',\n",
       "       'Appt Wait (Days)', 'Appt Wait (Range)', 'User Group', 'No Show',\n",
       "       'Category'],\n",
       "      dtype='object')"
      ]
     },
     "execution_count": 8,
     "metadata": {},
     "output_type": "execute_result"
    }
   ],
   "source": [
    "df.columns"
   ]
  },
  {
   "cell_type": "code",
   "execution_count": 9,
   "metadata": {},
   "outputs": [
    {
     "data": {
      "text/html": [
       "<div>\n",
       "<style scoped>\n",
       "    .dataframe tbody tr th:only-of-type {\n",
       "        vertical-align: middle;\n",
       "    }\n",
       "\n",
       "    .dataframe tbody tr th {\n",
       "        vertical-align: top;\n",
       "    }\n",
       "\n",
       "    .dataframe thead th {\n",
       "        text-align: right;\n",
       "    }\n",
       "</style>\n",
       "<table border=\"1\" class=\"dataframe\">\n",
       "  <thead>\n",
       "    <tr style=\"text-align: right;\">\n",
       "      <th></th>\n",
       "      <th>AGE</th>\n",
       "      <th>Appt Hour</th>\n",
       "      <th>Appt Wait (Days)</th>\n",
       "    </tr>\n",
       "  </thead>\n",
       "  <tbody>\n",
       "    <tr>\n",
       "      <th>count</th>\n",
       "      <td>222101.000000</td>\n",
       "      <td>222101.000000</td>\n",
       "      <td>222101.000000</td>\n",
       "    </tr>\n",
       "    <tr>\n",
       "      <th>mean</th>\n",
       "      <td>35.815841</td>\n",
       "      <td>11.541596</td>\n",
       "      <td>21.055388</td>\n",
       "    </tr>\n",
       "    <tr>\n",
       "      <th>std</th>\n",
       "      <td>22.261035</td>\n",
       "      <td>2.801814</td>\n",
       "      <td>37.471698</td>\n",
       "    </tr>\n",
       "    <tr>\n",
       "      <th>min</th>\n",
       "      <td>0.000000</td>\n",
       "      <td>0.000000</td>\n",
       "      <td>-105.012500</td>\n",
       "    </tr>\n",
       "    <tr>\n",
       "      <th>25%</th>\n",
       "      <td>17.000000</td>\n",
       "      <td>9.000000</td>\n",
       "      <td>0.827083</td>\n",
       "    </tr>\n",
       "    <tr>\n",
       "      <th>50%</th>\n",
       "      <td>35.000000</td>\n",
       "      <td>11.000000</td>\n",
       "      <td>8.021528</td>\n",
       "    </tr>\n",
       "    <tr>\n",
       "      <th>75%</th>\n",
       "      <td>51.000000</td>\n",
       "      <td>13.000000</td>\n",
       "      <td>22.998611</td>\n",
       "    </tr>\n",
       "    <tr>\n",
       "      <th>max</th>\n",
       "      <td>120.000000</td>\n",
       "      <td>23.000000</td>\n",
       "      <td>1284.981250</td>\n",
       "    </tr>\n",
       "  </tbody>\n",
       "</table>\n",
       "</div>"
      ],
      "text/plain": [
       "                 AGE      Appt Hour  Appt Wait (Days)\n",
       "count  222101.000000  222101.000000     222101.000000\n",
       "mean       35.815841      11.541596         21.055388\n",
       "std        22.261035       2.801814         37.471698\n",
       "min         0.000000       0.000000       -105.012500\n",
       "25%        17.000000       9.000000          0.827083\n",
       "50%        35.000000      11.000000          8.021528\n",
       "75%        51.000000      13.000000         22.998611\n",
       "max       120.000000      23.000000       1284.981250"
      ]
     },
     "execution_count": 9,
     "metadata": {},
     "output_type": "execute_result"
    }
   ],
   "source": [
    "df.describe()"
   ]
  },
  {
   "cell_type": "code",
   "execution_count": 11,
   "metadata": {},
   "outputs": [],
   "source": [
    "# Converting the date data from string into datetime\n",
    "def convert_datetime(data, column):\n",
    "    for i in column:\n",
    "        data[i] = pd.to_datetime(data[i], errors='coerce')\n",
    "    return data\n",
    "df = convert_datetime(df, [\"BOOKING_DT_TM\", \"APPT_DATE_TIME\", \"REG_DT_TM\"])"
   ]
  },
  {
   "cell_type": "code",
   "execution_count": 12,
   "metadata": {},
   "outputs": [
    {
     "data": {
      "image/png": "[encoded data removed]",
      "text/plain": [
       "<Figure size 1152x1152 with 1 Axes>"
      ]
     },
     "metadata": {
      "needs_background": "light"
     },
     "output_type": "display_data"
    }
   ],
   "source": [
    "plt.figure(figsize=(16,16))\n",
    "sns.distplot(df[\"AGE\"])\n",
    "plt.show()"
   ]
  },
  {
   "cell_type": "code",
   "execution_count": 13,
   "metadata": {},
   "outputs": [
    {
     "data": {
      "image/png": "[encoded data removed]",
      "text/plain": [
       "<Figure size 3240x1080 with 1 Axes>"
      ]
     },
     "metadata": {
      "needs_background": "light"
     },
     "output_type": "display_data"
    }
   ],
   "source": [
    "sns.catplot(x=\"AGE\", y=\"GENDER\", kind=\"box\", height=15,aspect=3, data=df)\n",
    "sns.set_context(\"paper\", font_scale=2) "
   ]
  },
  {
   "cell_type": "code",
   "execution_count": 14,
   "metadata": {},
   "outputs": [
    {
     "data": {
      "text/plain": [
       "array([[<matplotlib.axes._subplots.AxesSubplot object at 0x000002184F6EEA88>,\n",
       "        <matplotlib.axes._subplots.AxesSubplot object at 0x000002184C0C9CC8>],\n",
       "       [<matplotlib.axes._subplots.AxesSubplot object at 0x000002184C6835C8>,\n",
       "        <matplotlib.axes._subplots.AxesSubplot object at 0x000002184C59EB08>]],\n",
       "      dtype=object)"
      ]
     },
     "execution_count": 14,
     "metadata": {},
     "output_type": "execute_result"
    },
    {
     "data": {
      "image/png": "[encoded data removed]",
      "text/plain": [
       "<Figure size 1080x1080 with 4 Axes>"
      ]
     },
     "metadata": {
      "needs_background": "light"
     },
     "output_type": "display_data"
    }
   ],
   "source": [
    "df.hist(figsize=(15,15))"
   ]
  },
  {
   "cell_type": "code",
   "execution_count": 15,
   "metadata": {},
   "outputs": [],
   "source": [
    "# filling the missing date and time data in distinguishable data \n",
    "def fillna_date(df, column):\n",
    "    df[column] = df[column].fillna(datetime.datetime(2021, 1, 1))\n",
    "    return df\n",
    "df = fillna_date(df,  \"REG_DT_TM\")"
   ]
  },
  {
   "cell_type": "code",
   "execution_count": 16,
   "metadata": {},
   "outputs": [],
   "source": [
    "# Adding new columns with month and day extracting from the datetime data\n",
    "def add_date_column(df, cols):\n",
    "    for i in cols:\n",
    "        df[i+'_Month'] = pd.DatetimeIndex(df[i]).month\n",
    "        df[i+'_Day'] = pd.DatetimeIndex(df[i]).day\n",
    "    df = df.drop(cols, axis = 1)\n",
    "    return df\n",
    "df = add_date_column(df, ['APPT_DATE_TIME', 'REG_DT_TM',\"BOOKING_DT_TM\"])"
   ]
  },
  {
   "cell_type": "code",
   "execution_count": 17,
   "metadata": {},
   "outputs": [],
   "source": [
    "# dropping duplicates\n",
    "def dropDuplicates(df):\n",
    "    df = df.drop_duplicates()\n",
    "    return df\n",
    "df = dropDuplicates(df)"
   ]
  },
  {
   "cell_type": "code",
   "execution_count": 18,
   "metadata": {},
   "outputs": [],
   "source": [
    "# converting the categorical data into numerical data using label encoder\n",
    "def fill_Encode_data(df):\n",
    "    df.replace(\"-\",\"Unknown\", inplace = True)\n",
    "    le = LabelEncoder()\n",
    "    for i in df.columns:\n",
    "        if df[i].dtype == \"object\":\n",
    "            df[i] = le.fit_transform(df[i].astype(str))\n",
    "    return df\n",
    "df= fill_Encode_data(df)"
   ]
  },
  {
   "cell_type": "code",
   "execution_count": null,
   "metadata": {},
   "outputs": [],
   "source": [
    "plt.figure(figsize = (16,16))\n",
    "sns.pairplot(df)\n",
    "plt.show()"
   ]
  },
  {
   "cell_type": "code",
   "execution_count": null,
   "metadata": {
    "scrolled": true
   },
   "outputs": [],
   "source": [
    "plt.figure(figsize=(20,20))\n",
    "sns.heatmap(df.corr(), annot = True)\n",
    "plt.show()"
   ]
  },
  {
   "cell_type": "code",
   "execution_count": null,
   "metadata": {},
   "outputs": [],
   "source": [
    "# fig = ff.create_scatterplotmatrix(df)\n",
    "# iplot(fig)"
   ]
  },
  {
   "cell_type": "code",
   "execution_count": null,
   "metadata": {},
   "outputs": [],
   "source": [
    "# Removing outliers\n",
    "def removeOutliers(df):\n",
    "    z_score=abs(zscore(df))\n",
    "    df_clean= df.loc[(z_score<3).all(axis=1)]\n",
    "    return df\n",
    "df = removeOutliers(df)"
   ]
  },
  {
   "cell_type": "code",
   "execution_count": null,
   "metadata": {},
   "outputs": [],
   "source": [
    "# serperating the target variable\n",
    "x = df.drop([\"No Show\"], axis = 1)\n",
    "y = df[\"No Show\"]"
   ]
  },
  {
   "cell_type": "code",
   "execution_count": null,
   "metadata": {},
   "outputs": [],
   "source": [
    "# removing the skewness using yeo-johnson method\n",
    "pt = PowerTransformer()\n",
    "x = pd.DataFrame(pt.fit_transform(x), columns = x.columns)"
   ]
  },
  {
   "cell_type": "code",
   "execution_count": null,
   "metadata": {},
   "outputs": [],
   "source": [
    "names = ['DecisionTreeClassifier', \n",
    "         'KNeighborsClassifier', \n",
    "         'AdaBoostClassifier',\n",
    "         'GradientBoostingClassifier',\n",
    "         'SVC',\n",
    "         'LogisticRegression']\n",
    "algo = [DecisionTreeClassifier(), \n",
    "        KNeighborsClassifier(), \n",
    "        AdaBoostClassifier(),\n",
    "        GradientBoostingClassifier()\n",
    "        ,SVC(),\n",
    "        LogisticRegression()]\n",
    "\n",
    "models = zip(names,algo)"
   ]
  },
  {
   "cell_type": "code",
   "execution_count": null,
   "metadata": {},
   "outputs": [],
   "source": [
    "# function to find best algorithm\n",
    "def ModelStats(models, x,y):\n",
    "    ModelList = []\n",
    "    accuracy = []\n",
    "    f1Score = []\n",
    "    logLoss = []\n",
    "    crossValidate = []\n",
    "    for name, model in models:\n",
    "        X_train, X_test, y_train, y_test = train_test_split(x, y, test_size=0.20, stratify= y)\n",
    "        model.fit(X_train, y_train)\n",
    "        y_pred = model.predict(X_test)\n",
    "        accuracy.append(accuracy_score(y_test, y_pred))\n",
    "        f1Score.append(f1_score(y_test, y_pred))\n",
    "        logLoss.append(f1_score(y_test, y_pred))\n",
    "        ModelList.append(name)\n",
    "        crossValidate.append(cross_val_score(model,x,y, cv = 5, scoring = \"accuracy\").mean())\n",
    "    \n",
    "    df_model = pd.DataFrame({\"accuracy\" : accuracy,\n",
    "                      \"f1Score\" : f1Score,\n",
    "                       \"logLoss\" : logLoss,\n",
    "                       \"crossValidate\" : crossValidate\n",
    "                      }, index = ModelList)\n",
    "    return df_model"
   ]
  },
  {
   "cell_type": "code",
   "execution_count": null,
   "metadata": {},
   "outputs": [],
   "source": [
    "df_models = ModelStats(models, x,y)\n",
    "df_models"
   ]
  },
  {
   "cell_type": "code",
   "execution_count": null,
   "metadata": {},
   "outputs": [],
   "source": [
    "model = LogisticRegression()\n",
    "X_train, X_test, y_train, y_test = train_test_split(x, y, test_size=0.20, stratify= y)\n",
    "model.fit(X_train, y_train)\n",
    "y_pred = model.predict(X_test)\n",
    "print(\"accuracy_score:\",accuracy_score(y_test, y_pred))\n",
    "print(\"f1_score:\",f1_score(y_test, y_pred))\n",
    "print(\"Log Loss:\",log_loss(y_test, y_pred))\n",
    "print(\"Cross Validation:\",cross_val_score(model,x,y, cv = 5, scoring = \"accuracy\").mean())"
   ]
  },
  {
   "cell_type": "code",
   "execution_count": null,
   "metadata": {},
   "outputs": [],
   "source": [
    "joblib.dump(model, \"model.pkl\")"
   ]
  },
  {
   "cell_type": "code",
   "execution_count": null,
   "metadata": {},
   "outputs": [],
   "source": [
    "model = joblib.load(\"model.pkl\")"
   ]
  },
  {
   "cell_type": "code",
   "execution_count": null,
   "metadata": {},
   "outputs": [],
   "source": [
    "model.__dict__"
   ]
  },
  {
   "cell_type": "code",
   "execution_count": null,
   "metadata": {},
   "outputs": [],
   "source": []
  },
  {
   "cell_type": "code",
   "execution_count": null,
   "metadata": {},
   "outputs": [],
   "source": []
  },
  {
   "cell_type": "code",
   "execution_count": null,
   "metadata": {},
   "outputs": [],
   "source": []
  },
  {
   "cell_type": "code",
   "execution_count": null,
   "metadata": {},
   "outputs": [],
   "source": []
  },
  {
   "cell_type": "code",
   "execution_count": null,
   "metadata": {},
   "outputs": [],
   "source": []
  },
  {
   "cell_type": "code",
   "execution_count": null,
   "metadata": {},
   "outputs": [],
   "source": []
  },
  {
   "cell_type": "code",
   "execution_count": null,
   "metadata": {},
   "outputs": [],
   "source": []
  },
  {
   "cell_type": "code",
   "execution_count": null,
   "metadata": {},
   "outputs": [],
   "source": []
  }
 ],
 "metadata": {
  "kernelspec": {
   "display_name": "Python 3",
   "language": "python",
   "name": "python3"
  },
  "language_info": {
   "codemirror_mode": {
    "name": "ipython",
    "version": 3
   },
   "file_extension": ".py",
   "mimetype": "text/x-python",
   "name": "python",
   "nbconvert_exporter": "python",
   "pygments_lexer": "ipython3",
   "version": "3.7.4"
  }
 },
 "nbformat": 4,
 "nbformat_minor": 2
}
